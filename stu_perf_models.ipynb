{
 "cells": [
  {
   "attachments": {},
   "cell_type": "markdown",
   "metadata": {},
   "source": [
    "# Predicting Student Performance\n",
    "### Creating Models for Training and Testing\n",
    "\n",
    "Data is the Student Performance data set from the UCI Machine Learning Repository: https://archive.ics.uci.edu/ml/datasets/Student+Performance"
   ]
  },
  {
   "cell_type": "code",
   "execution_count": 3,
   "metadata": {},
   "outputs": [],
   "source": [
    "import pandas as pd\n",
    "import numpy as np\n",
    "import matplotlib.pyplot as plt\n",
    "import seaborn as sb\n",
    "from scipy.stats import mode\n",
    "from tabulate import tabulate\n",
    "from sklearn.model_selection import KFold\n",
    "from sklearn.model_selection import train_test_split\n",
    "from sklearn.metrics import accuracy_score, roc_auc_score, precision_score, recall_score, f1_score\n",
    "from sklearn.metrics import roc_curve, auc\n",
    "\n",
    "# Models used for Project\n",
    "from sklearn.ensemble import RandomForestClassifier\n",
    "import xgboost as xgb"
   ]
  },
  {
   "attachments": {},
   "cell_type": "markdown",
   "metadata": {},
   "source": [
    "### All preprocessing done in stu_perf_eda.ipynb"
   ]
  },
  {
   "cell_type": "code",
   "execution_count": 4,
   "metadata": {},
   "outputs": [],
   "source": [
    "all_stu = pd.read_csv(\"/Users/connorpatrom/introToDataScience/project/data/encoded_student_per.csv\")"
   ]
  },
  {
   "attachments": {},
   "cell_type": "markdown",
   "metadata": {},
   "source": [
    "### Creating Train/Test Split and k-fold CV"
   ]
  },
  {
   "cell_type": "code",
   "execution_count": 5,
   "metadata": {},
   "outputs": [],
   "source": [
    "train_df, test_df = train_test_split(all_stu, test_size=0.3, random_state=7)  # splitting data on 80/20 (train/test)"
   ]
  },
  {
   "cell_type": "code",
   "execution_count": 6,
   "metadata": {},
   "outputs": [],
   "source": [
    "folds = KFold(n_splits=5, shuffle=True)"
   ]
  },
  {
   "attachments": {},
   "cell_type": "markdown",
   "metadata": {},
   "source": [
    "### Splitting data into Features and Response"
   ]
  },
  {
   "cell_type": "code",
   "execution_count": 7,
   "metadata": {},
   "outputs": [],
   "source": [
    "# slicing data into features and response for train and test\n",
    "x_train = train_df.iloc[:, :-1].values\n",
    "y_train = train_df.iloc[:,-1].values\n",
    "\n",
    "x_test = test_df.iloc[:, :-1].values\n",
    "y_test = test_df.iloc[:,-1].values"
   ]
  },
  {
   "cell_type": "code",
   "execution_count": 8,
   "metadata": {},
   "outputs": [],
   "source": [
    "headers = [\"Fold\", \"Accuracy\", \"Precision\", \"Recall\", \"f1\", \"AUROC\"] # headers for metric table"
   ]
  },
  {
   "cell_type": "markdown",
   "metadata": {},
   "source": [
    "### Creating Baseline Model"
   ]
  },
  {
   "cell_type": "code",
   "execution_count": 9,
   "metadata": {},
   "outputs": [
    {
     "name": "stdout",
     "output_type": "stream",
     "text": [
      "Mode of the Response Variable: [1]\n"
     ]
    }
   ],
   "source": [
    "re_var = all_stu.iloc[:,-1].values\n",
    "most = mode(re_var, keepdims = True)\n",
    "print(f\"Mode of the Response Variable: {most[0]}\")"
   ]
  },
  {
   "cell_type": "code",
   "execution_count": 10,
   "metadata": {},
   "outputs": [
    {
     "name": "stdout",
     "output_type": "stream",
     "text": [
      "  Accuracy    Precision    Recall    f1    AUROC\n",
      "----------  -----------  --------  ----  -------\n",
      "      0.63         0.63      1.00  0.78     0.50\n"
     ]
    }
   ],
   "source": [
    "header = [\"Accuracy\", \"Precision\", \"Recall\", \"f1\", \"AUROC\"] # headers for metric table\n",
    "\n",
    "baseline_preds = np.ones_like(re_var)  # creating numpy array of most common class 1\n",
    "\n",
    "accuracy = accuracy_score(re_var, baseline_preds)\n",
    "precision = precision_score(re_var, baseline_preds)\n",
    "recall = recall_score(re_var, baseline_preds)\n",
    "f1 = f1_score(re_var, baseline_preds)\n",
    "roc_auc = roc_auc_score(re_var, baseline_preds)\n",
    "\n",
    "results = [[accuracy, precision, recall, f1, roc_auc]]\n",
    "\n",
    "print(tabulate(results, headers=header, floatfmt=\".2f\"))"
   ]
  },
  {
   "attachments": {},
   "cell_type": "markdown",
   "metadata": {},
   "source": [
    "Not very good as expected. Recall makes sense as TP / (TP + FN) = 1, there is 0 FN"
   ]
  },
  {
   "cell_type": "markdown",
   "metadata": {},
   "source": [
    "## Random Forest Model"
   ]
  },
  {
   "cell_type": "markdown",
   "metadata": {},
   "source": [
    "#### 5 k-fold Cross Validation using just the Training Data Set"
   ]
  },
  {
   "cell_type": "code",
   "execution_count": 11,
   "metadata": {},
   "outputs": [
    {
     "name": "stdout",
     "output_type": "stream",
     "text": [
      "  Fold    Accuracy    Precision    Recall    f1    AUROC\n",
      "------  ----------  -----------  --------  ----  -------\n",
      "     1        0.92         0.95      0.94  0.94     0.92\n",
      "     2        0.92         0.96      0.93  0.94     0.92\n",
      "     3        0.93         0.94      0.96  0.95     0.92\n",
      "     4        0.91         0.91      0.94  0.93     0.90\n",
      "     5        0.92         0.95      0.93  0.94     0.91\n"
     ]
    }
   ],
   "source": [
    "results = []\n",
    "\n",
    "for fold, (train_idx, val_idx) in enumerate(folds.split(x_train, y_train)):\n",
    "    clf_rf = RandomForestClassifier(n_estimators=100)\n",
    "    clf_rf.fit(x_train[train_idx], y_train[train_idx])\n",
    "    preds = clf_rf.predict(x_train[val_idx])\n",
    "    actual = y_train[val_idx]\n",
    "\n",
    "    accuracy = accuracy_score(actual, preds)\n",
    "    precision = precision_score(actual, preds)\n",
    "    recall = recall_score(actual, preds)\n",
    "    f1 = f1_score(actual, preds)\n",
    "    roc_auc = roc_auc_score(actual, preds)\n",
    "\n",
    "    results.append([fold+1, accuracy, precision, recall, f1, roc_auc])\n",
    "\n",
    "print(tabulate(results, headers=headers, floatfmt=\".2f\"))"
   ]
  },
  {
   "cell_type": "markdown",
   "metadata": {},
   "source": [
    "#### Fitting model to full training set and then predicting never seen test data set"
   ]
  },
  {
   "cell_type": "code",
   "execution_count": 16,
   "metadata": {},
   "outputs": [
    {
     "name": "stdout",
     "output_type": "stream",
     "text": [
      "  Accuracy    Precision    Recall    f1    AUROC\n",
      "----------  -----------  --------  ----  -------\n",
      "      0.86         0.86      0.92  0.89     0.84\n"
     ]
    }
   ],
   "source": [
    "header = [\"Accuracy\", \"Precision\", \"Recall\", \"f1\", \"AUROC\"] # headers for metric table\n",
    "clf_rf = RandomForestClassifier(n_estimators=100, max_depth=1)\n",
    "clf_rf.fit(x_train, y_train)\n",
    "predict = clf_rf.predict(x_test)\n",
    "\n",
    "accuracy = accuracy_score(y_test, predict)\n",
    "precision = precision_score(y_test, predict)\n",
    "recall = recall_score(y_test, predict)\n",
    "f1 = f1_score(y_test, predict)\n",
    "roc_auc = roc_auc_score(y_test, predict)\n",
    "\n",
    "results = [[accuracy, precision, recall, f1, roc_auc]]\n",
    "\n",
    "print(tabulate(results, headers=header, floatfmt=\".2f\"))"
   ]
  },
  {
   "attachments": {},
   "cell_type": "markdown",
   "metadata": {},
   "source": [
    "## XGBoost Model"
   ]
  },
  {
   "attachments": {},
   "cell_type": "markdown",
   "metadata": {},
   "source": [
    "#### 5 k-fold Cross Validation using just the Training Data Set"
   ]
  },
  {
   "cell_type": "code",
   "execution_count": 22,
   "metadata": {},
   "outputs": [
    {
     "name": "stdout",
     "output_type": "stream",
     "text": [
      "  Fold    Accuracy    Precision    Recall    f1    AUROC\n",
      "------  ----------  -----------  --------  ----  -------\n",
      "     1        0.90         0.92      0.91  0.92     0.89\n",
      "     2        0.94         0.94      0.97  0.95     0.92\n",
      "     3        0.96         0.98      0.96  0.97     0.96\n",
      "     4        0.92         0.92      0.95  0.93     0.91\n",
      "     5        0.95         0.96      0.97  0.96     0.95\n"
     ]
    }
   ],
   "source": [
    "results = []\n",
    "\n",
    "for fold, (train_idx, val_idx) in enumerate(folds.split(x_train, y_train)):\n",
    "    clf_xg = xgb.XGBClassifier(colsample_bytree=0.5, eta=0.01, max_depth=3, n_estimators=100, subsample=0.8)\n",
    "    clf_xg.fit(x_train[train_idx], y_train[train_idx])\n",
    "    preds = clf_xg.predict(x_train[val_idx])\n",
    "    actual = y_train[val_idx]\n",
    "\n",
    "    accuracy = accuracy_score(actual, preds)\n",
    "    precision = precision_score(actual, preds)\n",
    "    recall = recall_score(actual, preds)\n",
    "    f1 = f1_score(actual, preds)\n",
    "    roc_auc = roc_auc_score(actual, preds)\n",
    "\n",
    "    results.append([fold+1, accuracy, precision, recall, f1, roc_auc])\n",
    "\n",
    "print(tabulate(results, headers=headers, floatfmt=\".2f\"))"
   ]
  },
  {
   "attachments": {},
   "cell_type": "markdown",
   "metadata": {},
   "source": [
    "#### Fitting model to full training set and then predicting never seen test data set"
   ]
  },
  {
   "cell_type": "code",
   "execution_count": 28,
   "metadata": {},
   "outputs": [
    {
     "name": "stdout",
     "output_type": "stream",
     "text": [
      "  Accuracy    Precision    Recall    f1    AUROC\n",
      "----------  -----------  --------  ----  -------\n",
      "      0.90         0.93      0.90  0.92     0.90\n"
     ]
    }
   ],
   "source": [
    "header = [\"Accuracy\", \"Precision\", \"Recall\", \"f1\", \"AUROC\"] # headers for metric table\n",
    "clf_xg = xgb.XGBClassifier(colsample_bytree=0.5, eta=0.01, max_depth=3, n_estimators=100, subsample=0.8)\n",
    "clf_xg.fit(x_train, y_train)\n",
    "pred = clf_xg.predict(x_test)\n",
    "\n",
    "accuracy = accuracy_score(y_test, pred)\n",
    "precision = precision_score(y_test, pred)\n",
    "recall = recall_score(y_test, pred)\n",
    "f1 = f1_score(y_test, pred)\n",
    "roc_auc = roc_auc_score(y_test, pred)\n",
    "\n",
    "results = [[accuracy, precision, recall, f1, roc_auc]]\n",
    "\n",
    "print(tabulate(results, headers=header, floatfmt=\".2f\"))"
   ]
  },
  {
   "attachments": {},
   "cell_type": "markdown",
   "metadata": {},
   "source": [
    "#### AUROC Visulizations"
   ]
  },
  {
   "cell_type": "code",
   "execution_count": 29,
   "metadata": {},
   "outputs": [],
   "source": [
    "prob_rf = clf_rf.predict_proba(x_test)\n",
    "preds_rf = prob_rf[:, 1]\n",
    "\n",
    "prob_xg = clf_xg.predict_proba(x_test)\n",
    "preds_xg = prob_xg[:, 1]"
   ]
  },
  {
   "cell_type": "code",
   "execution_count": 30,
   "metadata": {},
   "outputs": [
    {
     "data": {
      "image/png": "[encoded data removed]",
      "text/plain": [
       "<Figure size 640x480 with 1 Axes>"
      ]
     },
     "metadata": {},
     "output_type": "display_data"
    }
   ],
   "source": [
    "fpr_rf, tpr_rf, thresholds_rf = roc_curve(y_test, preds_rf)\n",
    "roc_auc_rf = auc(fpr_rf, tpr_rf)\n",
    "\n",
    "fpr_xg, tpr_xg, thresholds_xg = roc_curve(y_test, preds_xg)\n",
    "roc_auc_xg = auc(fpr_xg, tpr_xg)\n",
    "\n",
    "plt.plot(fpr_rf, tpr_rf, color='green', lw=2, label='Random Forest ROC curve (area = %0.2f)' % roc_auc_rf)\n",
    "plt.plot(fpr_xg, tpr_xg, color='blue', lw=2, label='XGBoost ROC curve (area = %0.2f)' % roc_auc_xg)\n",
    "\n",
    "plt.plot([0, 1], [0, 1], color='red', lw=2, linestyle='--')\n",
    "plt.xlim([0.0, 1.0])\n",
    "plt.ylim([0.0, 1.05])\n",
    "plt.xlabel('False Positive Rate')\n",
    "plt.ylabel('True Positive Rate')\n",
    "plt.title('Random Forest AUROC vs XGBoost AUROC')\n",
    "plt.legend(loc=\"lower right\")\n",
    "plt.show()"
   ]
  }
 ],
 "metadata": {
  "kernelspec": {
   "display_name": "introtodatascience-5gkz4TDh-py3.11",
   "language": "python",
   "name": "python3"
  },
  "language_info": {
   "codemirror_mode": {
    "name": "ipython",
    "version": 3
   },
   "file_extension": ".py",
   "mimetype": "text/x-python",
   "name": "python",
   "nbconvert_exporter": "python",
   "pygments_lexer": "ipython3",
   "version": "3.11.1"
  },
  "orig_nbformat": 4
 },
 "nbformat": 4,
 "nbformat_minor": 2
}
